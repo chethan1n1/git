{
 "cells": [
  {
   "cell_type": "code",
   "execution_count": 5,
   "metadata": {},
   "outputs": [
    {
     "name": "stdout",
     "output_type": "stream",
     "text": [
      "(1, 2, 3, 4, 5, 6, 7, 8)\n"
     ]
    }
   ],
   "source": [
    "tuple_of_lists = ([1, 2, 3], [4, 5], [6, 7, 8])\n",
    "flattened_tuple = flatten_tuple_of_lists(tuple_of_lists)\n",
    "print(flattened_tuple)\n"
   ]
  },
  {
   "cell_type": "code",
   "execution_count": 2,
   "metadata": {},
   "outputs": [
    {
     "name": "stdout",
     "output_type": "stream",
     "text": [
      "Set converted to Tuple: (1, 2, 3, 4, 5)\n",
      "Tuple converted to Set: {1, 2, 3, 4, 5}\n"
     ]
    }
   ],
   "source": [
    "# Convert set to tuple\n",
    "input_set = {1, 2, 3, 4, 5}\n",
    "converted_tuple = tuple(input_set)\n",
    "print(\"Set converted to Tuple:\", converted_tuple)\n",
    "\n",
    "# Convert tuple to set\n",
    "input_tuple = (1, 2, 3, 4, 5)\n",
    "converted_set = set(input_tuple)\n",
    "print(\"Tuple converted to Set:\", converted_set)\n"
   ]
  },
  {
   "cell_type": "code",
   "execution_count": 3,
   "metadata": {},
   "outputs": [
    {
     "name": "stdout",
     "output_type": "stream",
     "text": [
      "[(('a', 1), ('b', 2)), (('x', 10), ('y', 20), ('z', 30))]\n"
     ]
    }
   ],
   "source": [
    "list_of_dicts = [\n",
    "    {\"a\": 1, \"b\": 2},\n",
    "    {\"x\": 10, \"y\": 20, \"z\": 30}\n",
    "]\n",
    "\n",
    "tuple_list = [tuple(d.items()) for d in list_of_dicts]\n",
    "print(tuple_list)\n"
   ]
  },
  {
   "cell_type": "code",
   "execution_count": 4,
   "metadata": {},
   "outputs": [
    {
     "name": "stdout",
     "output_type": "stream",
     "text": [
      "[(9, 2, 6), (1, 5, 3), (4, 7, 8)]\n"
     ]
    }
   ],
   "source": [
    "tuple_list = [(1, 5, 3), (9, 2, 6), (4, 7, 8)]\n",
    "N = 1\n",
    "sorted_list = sorted(tuple_list, key=lambda x: x[N])\n",
    "print(sorted_list)\n"
   ]
  },
  {
   "cell_type": "code",
   "execution_count": 2,
   "metadata": {},
   "outputs": [
    {
     "name": "stdout",
     "output_type": "stream",
     "text": [
      "Indices of target tuples: [1, 3]\n"
     ]
    }
   ],
   "source": [
    "def find_indices(tuple_list, target_list):\n",
    "    indices = []\n",
    "    for target_tuple in target_list:\n",
    "        try:\n",
    "            index = tuple_list.index(target_tuple)\n",
    "            indices.append(index)\n",
    "        except ValueError:\n",
    "            pass\n",
    "    return indices\n",
    "\n",
    "# Example:\n",
    "tuple_list = [(1, 2), (3, 4), (5, 6), (7, 8)]\n",
    "target_list = [(3, 4), (7, 8)]\n",
    "\n",
    "result = find_indices(tuple_list, target_list)\n",
    "print(\"Indices of target tuples:\", result)\n"
   ]
  },
  {
   "cell_type": "code",
   "execution_count": 3,
   "metadata": {},
   "outputs": [
    {
     "name": "stdout",
     "output_type": "stream",
     "text": [
      "{'a': [{'a': 1}, {'a': 2}, {'a': 3}], 'b': [{'b': 4}, {'b': 5}, {'b': 6}]}\n"
     ]
    }
   ],
   "source": [
    "def list_to_dict_list(input_dict):\n",
    "    output_dict = {}\n",
    "    for key, value_list in input_dict.items():\n",
    "        dict_list = [{key: val} for val in value_list]\n",
    "        output_dict[key] = dict_list\n",
    "    return output_dict\n",
    "\n",
    "# Example usage:\n",
    "input_dict = {'a': [1, 2, 3], 'b': [4, 5, 6]}\n",
    "output_dict = list_to_dict_list(input_dict)\n",
    "print(output_dict)\n"
   ]
  }
 ],
 "metadata": {
  "kernelspec": {
   "display_name": "Python 3.11.7",
   "language": "python",
   "name": "python3"
  },
  "language_info": {
   "codemirror_mode": {
    "name": "ipython",
    "version": 3
   },
   "file_extension": ".py",
   "mimetype": "text/x-python",
   "name": "python",
   "nbconvert_exporter": "python",
   "pygments_lexer": "ipython3",
   "version": "3.11.7"
  },
  "orig_nbformat": 4,
  "vscode": {
   "interpreter": {
    "hash": "3c42e8e577ec8a116dfe3fe724407a7a5088d285f90d1fbfc5fc18b1f966dece"
   }
  }
 },
 "nbformat": 4,
 "nbformat_minor": 2
}
